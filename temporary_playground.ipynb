{
 "cells": [
  {
   "cell_type": "code",
   "execution_count": 648,
   "id": "7859cccc",
   "metadata": {},
   "outputs": [],
   "source": [
    "import pandas as pd\n",
    "df = pd.read_parquet(\"data/vogue_data_cd.parquet\")\n",
    "df = df[df[\"fashion_house\"] != \"Fashion East\"].reset_index(drop=True)\n",
    "df = df[df[\"fashion_house\"] != \"Theory\"].reset_index(drop=True)\n",
    "df = df[df.groupby(\"fashion_house\")[\"fashion_house\"].transform(\"count\") >= 10]\n",
    "#df = df.drop(columns=[col for col in [\"designer_name\"] if col in df.columns])\n",
    "\n",
    "problem_rows = df[df[\"designer_name\"].apply(lambda x: len(x) ==0)]"
   ]
  },
  {
   "cell_type": "code",
   "execution_count": 645,
   "id": "131b8283",
   "metadata": {},
   "outputs": [],
   "source": [
    "df = df.drop(columns=[col for col in [\"designer_names\",\"ner_person_names\"] if col in df.columns])"
   ]
  },
  {
   "cell_type": "code",
   "execution_count": 595,
   "id": "ad335cb1",
   "metadata": {},
   "outputs": [
    {
     "data": {
      "text/html": [
       "<div>\n",
       "<style scoped>\n",
       "    .dataframe tbody tr th:only-of-type {\n",
       "        vertical-align: middle;\n",
       "    }\n",
       "\n",
       "    .dataframe tbody tr th {\n",
       "        vertical-align: top;\n",
       "    }\n",
       "\n",
       "    .dataframe thead th {\n",
       "        text-align: right;\n",
       "    }\n",
       "</style>\n",
       "<table border=\"1\" class=\"dataframe\">\n",
       "  <thead>\n",
       "    <tr style=\"text-align: right;\">\n",
       "      <th></th>\n",
       "      <th>fashion_house</th>\n",
       "      <th>show</th>\n",
       "      <th>URL</th>\n",
       "      <th>image_urls</th>\n",
       "      <th>location</th>\n",
       "      <th>season</th>\n",
       "      <th>year</th>\n",
       "      <th>category</th>\n",
       "      <th>image_urls_sample</th>\n",
       "      <th>description</th>\n",
       "      <th>editor</th>\n",
       "      <th>publish_date</th>\n",
       "      <th>ner_person_names</th>\n",
       "      <th>designer_names</th>\n",
       "      <th>designer_name</th>\n",
       "    </tr>\n",
       "  </thead>\n",
       "  <tbody>\n",
       "  </tbody>\n",
       "</table>\n",
       "</div>"
      ],
      "text/plain": [
       "Empty DataFrame\n",
       "Columns: [fashion_house, show, URL, image_urls, location, season, year, category, image_urls_sample, description, editor, publish_date, ner_person_names, designer_names, designer_name]\n",
       "Index: []"
      ]
     },
     "execution_count": 595,
     "metadata": {},
     "output_type": "execute_result"
    }
   ],
   "source": [
    "df[\n",
    "    (df[\"fashion_house\"] == \"Theory\") \n",
    "    # &\n",
    "    # (df[\"designer_name\"].apply(lambda x: \"Vittorio and Laura Moltedo\" in list(x)))\n",
    "]"
   ]
  }
 ],
 "metadata": {
  "kernelspec": {
   "display_name": "fashion",
   "language": "python",
   "name": "python3"
  },
  "language_info": {
   "codemirror_mode": {
    "name": "ipython",
    "version": 3
   },
   "file_extension": ".py",
   "mimetype": "text/x-python",
   "name": "python",
   "nbconvert_exporter": "python",
   "pygments_lexer": "ipython3",
   "version": "3.12.11"
  }
 },
 "nbformat": 4,
 "nbformat_minor": 5
}
