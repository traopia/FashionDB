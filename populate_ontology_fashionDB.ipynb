{
 "cells": [
  {
   "cell_type": "markdown",
   "metadata": {},
   "source": [
    "## NOTEBOOK TO POPULATE THE WIKIFASHION KNOWLEDGE BASE with the ontology: property and basic classes\n",
    "\n",
    "\n",
    "<div>\n",
    "<img src=\"img/wikifashion_ontology.png\" width=\"700\"/>\n",
    "</div>\n"
   ]
  },
  {
   "cell_type": "markdown",
   "metadata": {},
   "source": [
    "## IMPORT PROPERTIES FROM WIKIDATA\n",
    "Properties to import: \n",
    "1. instance of\n",
    "2. date of birth\n",
    "3. date of death\n",
    "4. country of citizenship\n",
    "5. sex or gender\n",
    "6. educated at\n",
    "7. employer\n",
    "8. inception\n",
    "9. headquarters location\n",
    "10. parent organization\n",
    "11. founder of (NOT EXISTS IN WIKIDATA)\n",
    "12. founded by\n",
    "13. start time\n",
    "14. end time\n",
    "15. official website\n",
    "16. creative director\n",
    "\n",
    "## PROPERTIES TO BE CREATED \n",
    "1. founded \n",
    "2. category of fashion collection\n",
    "3. season of fashion collection\n",
    "4. location of fashion show\n",
    "5. fashion collection description\n",
    "6. writer of fashion description\n",
    "7. wikidata ID\n",
    "9. reference URL\n",
    "10. year\n",
    "11. occupation title\n",
    "12. fashion collection\n",
    "13. fashion season\n",
    "14. fashion show location\n",
    "15. description of fashion collection\n",
    "16. image of fashion collection\n",
    "17. editor of fashion collection description\n",
    "18. date of fashion collection\n",
    "19. fashion show category\n",
    "20. fashion house X fashion collection\n",
    "21. designer of collection"
   ]
  },
  {
   "cell_type": "code",
   "execution_count": 2,
   "metadata": {},
   "outputs": [
    {
     "name": "stderr",
     "output_type": "stream",
     "text": [
      "MediaWiki login warnings messages:\n",
      "* main: Subscribe to the mediawiki-api-announce mailing list at <https://lists.wikimedia.org/postorius/lists/mediawiki-api-announce.lists.wikimedia.org/> for notice of API deprecations and breaking changes.\n",
      "* login: Main-account login via \"action=login\" is deprecated and may stop working without warning. To continue login with \"action=login\", see [[Special:BotPasswords]]. To safely continue using main-account login, see \"action=clientlogin\".\n"
     ]
    }
   ],
   "source": [
    "from src_wikibase.fct_add_properties_wikibase import *"
   ]
  },
  {
   "cell_type": "code",
   "execution_count": 3,
   "metadata": {},
   "outputs": [
    {
     "name": "stdout",
     "output_type": "stream",
     "text": [
      "Property equivalent property has ID P1 in Wikibase already.\n"
     ]
    }
   ],
   "source": [
    "copy_property_wikibase(\"equivalent property\", equivalent_property=False)"
   ]
  },
  {
   "cell_type": "code",
   "execution_count": 3,
   "metadata": {},
   "outputs": [
    {
     "name": "stdout",
     "output_type": "stream",
     "text": [
      "Property instance of has ID P2 in Wikibase already.\n",
      "Working on date of birth\n",
      "Working on place of birth\n",
      "Working on date of death\n",
      "Working on country of citizenship\n",
      "Working on work location\n",
      "Working on sex or gender\n",
      "Working on educated at\n",
      "Working on employer\n",
      "Working on inception\n",
      "Working on headquarters location\n",
      "Working on parent organization\n",
      "Working on founded by\n",
      "Working on start time\n",
      "Working on end time\n",
      "Working on official website\n",
      "Working on award received\n",
      "Working on occupation\n",
      "Working on industry\n",
      "Working on total revenue\n",
      "Working on owned by\n",
      "Working on exact match\n",
      "Working on reference URL\n",
      "Working on point in time\n",
      "Working on country of origin\n"
     ]
    }
   ],
   "source": [
    "# COPY FROM WIKIDATA TO WIKIBASE\n",
    "list_of_properties = [ \"instance of\", \"date of birth\", \"place of birth\",\"date of death\", \"country of citizenship\",\"work location\" ,\"sex or gender\", \n",
    "                      \"educated at\", \"employer\", \"inception\", \"headquarters location\", \"parent organization\", \n",
    "                      \"founded by\", \"start time\", \"end time\", \"official website\", \"award received\", \"occupation\",\n",
    "                      \"industry\", \"total revenue\", \"owned by\", \"exact match\", \"reference URL\", \"point in time\",\"country of origin\" ]\n",
    "for prop in list_of_properties:\n",
    "    copy_property_wikibase(prop)"
   ]
  },
  {
   "cell_type": "code",
   "execution_count": 4,
   "metadata": {},
   "outputs": [
    {
     "name": "stdout",
     "output_type": "stream",
     "text": [
      "Property occupation title created with ID: P27\n",
      "Property who wears it created with ID: P28\n",
      "Property perfumes created with ID: P29\n",
      "Property designer employed created with ID: P30\n"
     ]
    }
   ],
   "source": [
    "# ADD NEW PROPERTIES TO WIKIBASE\n",
    "list_of_properties = [\n",
    "    (\"occupation title\", \"Title of an occupation, Role of employment or collaboration within the employer statement\", \"string\"),\n",
    "    (\"who wears it\", \"Famous people wearing for a fashion house/brand\", \"wikibase-item\"),\n",
    "    (\"perfumes\", \"Perfumes of a fashion house/brand\", \"string\"),\n",
    "    (\"designer employed\", \"Employees of a fashion house/brand\", \"wikibase-item\"),\n",
    "    # (\"fashion collection\", \"Fashion collection of a fashion house/brand\", \"wikibase-item\"),\n",
    "    # (\"fashion season\", \"Season of a fashion collection\", \"wikibase-item\"),\n",
    "    # (\"fashion show location\", \"Location of a fashion show\", \"wikibase-item\"),\n",
    "    # (\"description of fashion collection\", \"Description of a fashion collection\", \"string\"),\n",
    "    # (\"image of fashion collection\", \"Image of a fashion collection\", \"url\"),\n",
    "    # (\"editor of fashion collection description\", \"Editor of a fashion collection description\", \"wikibase-item\"),\n",
    "    # (\"date of fashion collection\", \"Date of a fashion collection\", \"time\"),\n",
    "    # (\"fashion show category\", \"Category of a fashion show\", \"wikibase-item\"),\n",
    "    # (\"fashion house X fashion collection\", \"Fashion house X fashion collection\", \"wikibase-item\"),\n",
    "    # (\"designer of collection\", \"Creative director of the collection designed\", \"wikibase-item\")\n",
    "\n",
    "\n",
    "]\n",
    "\n",
    "\n",
    "\n",
    "for prop in list_of_properties:\n",
    "    create_property_in_wikibase(prop[0], prop[1], prop[2])"
   ]
  },
  {
   "cell_type": "markdown",
   "metadata": {},
   "source": [
    "## CREATE ENTITIES.\n",
    "0. Import from Wikidata entities classes: Fashion Designer, Fashion House, School, Country, Location, Organization\n",
    "1. Import from Wikidata entities for: Fashion Designers and Fashion Houses.\n",
    "2. Import from Wikidata entities for fashion schools.\n",
    "3. Import from Wikidata entities for countries and locations of interest.\n",
    "4. Import from Wikidata entities for organizations of interest\n",
    "\n",
    "5. Create entities for Fashion Collection, \n",
    "\n"
   ]
  },
  {
   "cell_type": "code",
   "execution_count": 3,
   "metadata": {},
   "outputs": [],
   "source": [
    "#from src.fct_add_entities_wikibase import *\n",
    "from src_wikibase.fct_add_entities import helper_add_entities_wikibase   \n",
    "helper_add_entities = helper_add_entities_wikibase(print_message=True)"
   ]
  },
  {
   "cell_type": "code",
   "execution_count": 4,
   "metadata": {},
   "outputs": [
    {
     "name": "stderr",
     "output_type": "stream",
     "text": [
      "ERROR:root:An error occurred while fetching the entity: argument of type 'NoneType' is not iterable\n",
      "ERROR:root:An error occurred while fetching the entity: 'subclass of'\n"
     ]
    },
    {
     "name": "stdout",
     "output_type": "stream",
     "text": [
      "Failed to process entity fashion house: 'str' object has no attribute 'labels'\n",
      "Entity with label 'fashion house' already exists in the new Wikibase instance. Skipping...\n",
      "Entity with label 'fashion designer' already exists in the new Wikibase instance. Skipping...\n",
      "Entity with label 'academic institution' already exists in the new Wikibase instance. Skipping...\n",
      "Entity with label 'geographic location' already exists in the new Wikibase instance. Skipping...\n",
      "Entity with label 'organization' already exists in the new Wikibase instance. Skipping...\n"
     ]
    },
    {
     "name": "stderr",
     "output_type": "stream",
     "text": [
      "ERROR:root:An error occurred while fetching the entity: argument of type 'NoneType' is not iterable\n",
      "ERROR:root:An error occurred while fetching the entity: 'subclass of'\n"
     ]
    },
    {
     "name": "stdout",
     "output_type": "stream",
     "text": [
      "Failed to process entity fashion award: 'str' object has no attribute 'labels'\n",
      "Entity with label 'fashion award' already exists in the new Wikibase instance. Skipping...\n"
     ]
    },
    {
     "name": "stderr",
     "output_type": "stream",
     "text": [
      "ERROR:root:An error occurred while fetching the entity: argument of type 'NoneType' is not iterable\n",
      "ERROR:root:An error occurred while fetching the entity: 'subclass of'\n"
     ]
    },
    {
     "name": "stdout",
     "output_type": "stream",
     "text": [
      "Failed to process entity gender: 'str' object has no attribute 'labels'\n"
     ]
    },
    {
     "name": "stderr",
     "output_type": "stream",
     "text": [
      "ERROR:root:An error occurred while fetching the entity: argument of type 'NoneType' is not iterable\n"
     ]
    },
    {
     "name": "stdout",
     "output_type": "stream",
     "text": [
      "Failed to process entity gender: 'str' object has no attribute 'labels'\n",
      "Entity with label 'occupation' already exists in the new Wikibase instance. Skipping...\n",
      "Entity with label 'business' already exists in the new Wikibase instance. Skipping...\n",
      "Entity with label 'fashion journalist' already exists in the new Wikibase instance. Skipping...\n",
      "Copying entity 'gender' from Wikidata to the new Wikibase instance...\n",
      "Entity gender copied successfully.\n",
      "Copying entity 'human' from Wikidata to the new Wikibase instance...\n",
      "Entity human copied successfully.\n",
      "Copying entity 'brand' from Wikidata to the new Wikibase instance...\n",
      "Entity brand copied successfully.\n",
      "Entity with label 'fashion award' already exists in the new Wikibase instance. Skipping...\n",
      "Copying entity 'privately held company' from Wikidata to the new Wikibase instance...\n",
      "Entity privately held company copied successfully.\n"
     ]
    }
   ],
   "source": [
    "entities_classes = [\n",
    "    (\"fashion house\",\"business\", None),\n",
    "    (\"fashion designer\",\"occupation\",None),\n",
    "    (\"academic institution\", None,None),\n",
    "    (\"geographic location\", None,None),\n",
    "    (\"organization\",None,None),\n",
    "    (\"fashion award\",\"award\",None ),\n",
    "    (\"gender\",\"concept\" ,None),\n",
    "    (\"occupation\",\"concept\",None),\n",
    "    (\"business\",None,None),\n",
    "    (\"fashion journalist\", None, None),\n",
    "    (\"gender\", None, None),\n",
    "    (\"human\", None, None),\n",
    "    (\"brand\", None, None),\n",
    "    (\"fashion award\", None, None),\n",
    "    (\"privately held company\", None, None)\n",
    "\n",
    "\n",
    "\n",
    "]\n",
    "\n",
    "\n",
    "\n",
    "for entity in entities_classes:\n",
    "    helper_add_entities.copy_entity_wikidata_to_wikibase_label(entity[0], entity[1], None, add_instance_of=False) or helper_add_entities.copy_entity_wikidata_to_wikibase_label(entity[0], entity[1], entity[2], property_id = \"subclass of\", add_instance_of=False)"
   ]
  },
  {
   "cell_type": "code",
   "execution_count": 6,
   "metadata": {},
   "outputs": [
    {
     "data": {
      "text/plain": [
       "'Q12'"
      ]
     },
     "execution_count": 6,
     "metadata": {},
     "output_type": "execute_result"
    }
   ],
   "source": [
    "from src_wikibase.fct_add_entities import get_entity_id_by_label\n",
    "get_entity_id_by_label(\"brand\",\"wikibase\")[0]"
   ]
  },
  {
   "cell_type": "code",
   "execution_count": 7,
   "metadata": {},
   "outputs": [
    {
     "name": "stdout",
     "output_type": "stream",
     "text": [
      "Creating new entity 'Fashion Season'...\n",
      "Entity Fashion Season copied successfully.\n",
      "Creating new entity 'Fashion Show Category'...\n",
      "Entity Fashion Show Category copied successfully.\n",
      "Creating new entity 'Fashion Season Collection'...\n",
      "Entity Fashion Season Collection copied successfully.\n"
     ]
    }
   ],
   "source": [
    "#add classes to wikibase\n",
    "classes_to_add = [\"fashion season\", \"fashion show category\", \"fashion season collection\"]\n",
    "for class_name in classes_to_add:\n",
    "    helper_add_entities.fetch_entity_with_label_class(class_name,None, \"wikibase\" , create_new_if_not_exist=True)"
   ]
  },
  {
   "cell_type": "code",
   "execution_count": 5,
   "metadata": {},
   "outputs": [
    {
     "name": "stdout",
     "output_type": "stream",
     "text": [
      "Entity with label 'Alexandre Vauthier' already exists in the new Wikibase instance. Updating..\n",
      "Updating entity 'Alexandre Vauthier' from Wikidata to the new Wikibase instance...\n",
      "Entity 'human' already exists in the new Wikibase instance. Skipping...\n",
      "Entity 'human' already exists in the new Wikibase instance. Skipping...\n",
      "Adding claims for property 'instance of'\n",
      "Adding claims for property 'date of birth'\n",
      "Entity 'Agen' already exists in the new Wikibase instance. Skipping...\n",
      "Entity 'Agen' already exists in the new Wikibase instance. Skipping...\n",
      "Adding claims for property 'place of birth'\n",
      "Entity 'France' already exists in the new Wikibase instance. Skipping...\n",
      "Entity 'France' already exists in the new Wikibase instance. Skipping...\n",
      "Adding claims for property 'country of citizenship'\n",
      "Entity 'grand couturier' already exists in the new Wikibase instance. Skipping...\n",
      "Entity 'grand couturier' already exists in the new Wikibase instance. Skipping...\n",
      "Adding claims for property 'occupation'\n",
      "Entity 'male' already exists in the new Wikibase instance. Skipping...\n",
      "Entity 'male' already exists in the new Wikibase instance. Skipping...\n",
      "Adding claims for property 'sex or gender'\n",
      "Entity 'Esmod' already exists in the new Wikibase instance. Skipping...\n",
      "Entity 'Esmod' already exists in the new Wikibase instance. Skipping...\n",
      "Adding claims for property 'educated at'\n",
      "Entity 'Chevalier des Arts et des Lettres' already exists in the new Wikibase instance. Skipping...\n",
      "Entity 'Chevalier des Arts et des Lettres' already exists in the new Wikibase instance. Skipping...\n",
      "Adding claims for property 'award received'\n",
      "Updating entity 'Alexandre Vauthier' from Wikidata to the new Wikibase instance...\n"
     ]
    },
    {
     "name": "stderr",
     "output_type": "stream",
     "text": [
      "/Users/traopia/miniconda3/envs/fashion/lib/python3.12/site-packages/wikibaseintegrator/models/claims.py:422: UserWarning: New item has more or less than 1 reference block.\n",
      "  warnings.warn(\"New item has more or less than 1 reference block.\")\n"
     ]
    },
    {
     "name": "stdout",
     "output_type": "stream",
     "text": [
      "Entity Alexandre Vauthier copied successfully.\n"
     ]
    }
   ],
   "source": [
    "to_do = [\n",
    "\"Alexandre Vauthier\"]\n",
    "for i in to_do:\n",
    "    try:\n",
    "        helper_add_entities.copy_entity_wikidata_to_wikibase_label_all_properties(i, \"fashion designer\", \"fashion designer\")\n",
    "    except Exception as e:\n",
    "        print(f\"Error processing {i}: {e}\")"
   ]
  }
 ],
 "metadata": {
  "kernelspec": {
   "display_name": "fashion",
   "language": "python",
   "name": "python3"
  },
  "language_info": {
   "codemirror_mode": {
    "name": "ipython",
    "version": 3
   },
   "file_extension": ".py",
   "mimetype": "text/x-python",
   "name": "python",
   "nbconvert_exporter": "python",
   "pygments_lexer": "ipython3",
   "version": "3.12.11"
  }
 },
 "nbformat": 4,
 "nbformat_minor": 2
}
